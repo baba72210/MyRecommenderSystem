{
 "cells": [
  {
   "cell_type": "code",
   "execution_count": 17,
   "id": "c93ee72a",
   "metadata": {
    "_cell_guid": "b1076dfc-b9ad-4769-8c92-a6c4dae69d19",
    "_uuid": "8f2839f25d086af736a60e9eeb907d3b93b6e0e5",
    "execution": {
     "iopub.execute_input": "2022-11-05T16:03:49.557304Z",
     "iopub.status.busy": "2022-11-05T16:03:49.556871Z",
     "iopub.status.idle": "2022-11-05T16:03:49.570118Z",
     "shell.execute_reply": "2022-11-05T16:03:49.568647Z"
    },
    "papermill": {
     "duration": 0.026788,
     "end_time": "2022-11-05T16:03:49.573115",
     "exception": false,
     "start_time": "2022-11-05T16:03:49.546327",
     "status": "completed"
    },
    "tags": []
   },
   "outputs": [],
   "source": [
    "# This Python 3 environment comes with many helpful analytics libraries installed\n",
    "# It is defined by the kaggle/python Docker image: https://github.com/kaggle/docker-python\n",
    "# For example, here's several helpful packages to load\n",
    "\n",
    "import numpy as np # linear algebra\n",
    "import pandas as pd # data processing, CSV file I/O (e.g. pd.read_csv)\n",
    "\n",
    "# Input data files are available in the read-only \"../input/\" directory\n",
    "# For example, running this (by clicking run or pressing Shift+Enter) will list all files under the input directory\n",
    "\n",
    "import os\n",
    "for dirname, _, filenames in os.walk('/kaggle/input'):\n",
    "    for filename in filenames:\n",
    "        print(os.path.join(dirname, filename))\n",
    "\n",
    "# You can write up to 20GB to the current directory (/kaggle/working/) that gets preserved as output when you create a version using \"Save & Run All\" \n",
    "# You can also write temporary files to /kaggle/temp/, but they won't be saved outside of the current session"
   ]
  },
  {
   "cell_type": "code",
   "execution_count": 18,
   "id": "ed6bb85a",
   "metadata": {
    "execution": {
     "iopub.execute_input": "2022-11-05T16:03:49.589853Z",
     "iopub.status.busy": "2022-11-05T16:03:49.589421Z",
     "iopub.status.idle": "2022-11-05T16:03:49.681837Z",
     "shell.execute_reply": "2022-11-05T16:03:49.680791Z"
    },
    "papermill": {
     "duration": 0.104206,
     "end_time": "2022-11-05T16:03:49.685050",
     "exception": false,
     "start_time": "2022-11-05T16:03:49.580844",
     "status": "completed"
    },
    "tags": []
   },
   "outputs": [],
   "source": [
    "import scipy.sparse as sps\n",
    "import matplotlib.pyplot as pyplot"
   ]
  },
  {
   "cell_type": "code",
   "execution_count": 72,
   "id": "59c5b707",
   "metadata": {
    "execution": {
     "iopub.execute_input": "2022-11-05T16:03:49.702165Z",
     "iopub.status.busy": "2022-11-05T16:03:49.701297Z",
     "iopub.status.idle": "2022-11-05T16:03:52.462936Z",
     "shell.execute_reply": "2022-11-05T16:03:52.461591Z"
    },
    "papermill": {
     "duration": 2.773333,
     "end_time": "2022-11-05T16:03:52.465930",
     "exception": false,
     "start_time": "2022-11-05T16:03:49.692597",
     "status": "completed"
    },
    "tags": []
   },
   "outputs": [
    {
     "name": "stderr",
     "output_type": "stream",
     "text": [
      "C:\\Users\\baba7\\AppData\\Local\\Packages\\PythonSoftwareFoundation.Python.3.9_qbz5n2kfra8p0\\LocalCache\\local-packages\\Python39\\site-packages\\IPython\\core\\interactiveshell.py:3361: DtypeWarning: Columns (2) have mixed types.Specify dtype option on import or set low_memory=False.\n",
      "  exec(code_obj, self.user_global_ns, self.user_ns)\n"
     ]
    }
   ],
   "source": [
    "list_of_files = []\n",
    "for dirname, _, filenames in os.walk('..'):\n",
    "    for filename in filenames:\n",
    "        list_of_files.append(os.path.join(dirname, filename))\n",
    "\n",
    "for file in list_of_files:\n",
    "    if file.endswith(\"interactions_and_impressions.csv\"):\n",
    "        URM_dataframe = pd.read_csv(file)\n",
    "    elif file.endswith(\"data_target_users_test.csv\"):\n",
    "        target_users = pd.read_csv(file)\n",
    "    elif file.endswith(\"alg_sample_submission.csv\"):\n",
    "        submission_sample = pd.read_csv(file)\n",
    "    \n",
    "    \n"
   ]
  },
  {
   "cell_type": "code",
   "execution_count": 20,
   "id": "bc78b50a",
   "metadata": {
    "execution": {
     "iopub.execute_input": "2022-11-05T16:03:52.483827Z",
     "iopub.status.busy": "2022-11-05T16:03:52.482778Z",
     "iopub.status.idle": "2022-11-05T16:03:52.510250Z",
     "shell.execute_reply": "2022-11-05T16:03:52.508942Z"
    },
    "papermill": {
     "duration": 0.038899,
     "end_time": "2022-11-05T16:03:52.512845",
     "exception": false,
     "start_time": "2022-11-05T16:03:52.473946",
     "status": "completed"
    },
    "tags": []
   },
   "outputs": [],
   "source": [
    "URM_dataframe.columns = [\"UserID\", \"ItemID\", \"Impressions\", \"Data\"]"
   ]
  },
  {
   "cell_type": "code",
   "execution_count": 21,
   "id": "b031d7a7",
   "metadata": {
    "execution": {
     "iopub.execute_input": "2022-11-05T16:03:52.530303Z",
     "iopub.status.busy": "2022-11-05T16:03:52.529931Z",
     "iopub.status.idle": "2022-11-05T16:03:53.014356Z",
     "shell.execute_reply": "2022-11-05T16:03:53.013028Z"
    },
    "papermill": {
     "duration": 0.496541,
     "end_time": "2022-11-05T16:03:53.017311",
     "exception": false,
     "start_time": "2022-11-05T16:03:52.520770",
     "status": "completed"
    },
    "tags": []
   },
   "outputs": [
    {
     "name": "stdout",
     "output_type": "stream",
     "text": [
      "The number of interactions is 5826506\n",
      "The number of users is 41629\n",
      "The number of items is 24507\n",
      "The number of items viewed is 2259027\n",
      "The number of details page openned is 3567479\n"
     ]
    }
   ],
   "source": [
    "print (\"The number of interactions is {}\".format(len(URM_dataframe)))\n",
    "print (\"The number of users is {}\".format(len(URM_dataframe[\"UserID\"].unique())))\n",
    "print (\"The number of items is {}\".format(len(URM_dataframe[\"ItemID\"].unique())))\n",
    "print (\"The number of items viewed is {}\".format(len(URM_dataframe.loc[(URM_dataframe[\"Data\"]==1)])))\n",
    "print (\"The number of details page openned is {}\".format(len(URM_dataframe.loc[(URM_dataframe[\"Data\"]==0)])))"
   ]
  },
  {
   "cell_type": "code",
   "execution_count": 22,
   "id": "5caab32f",
   "metadata": {
    "execution": {
     "iopub.execute_input": "2022-11-05T16:03:53.037775Z",
     "iopub.status.busy": "2022-11-05T16:03:53.036581Z",
     "iopub.status.idle": "2022-11-05T16:03:53.135983Z",
     "shell.execute_reply": "2022-11-05T16:03:53.134544Z"
    },
    "papermill": {
     "duration": 0.11148,
     "end_time": "2022-11-05T16:03:53.138836",
     "exception": false,
     "start_time": "2022-11-05T16:03:53.027356",
     "status": "completed"
    },
    "tags": []
   },
   "outputs": [],
   "source": [
    "#mapped_id, original_id = pd.factorize(URM_dataframe[\"UserID\"].unique())\n",
    "#user_original_ID_to_index = pd.Series(mapped_id, index=original_id)\n",
    "\n",
    "mapped_id, original_id = pd.factorize(URM_dataframe[\"ItemID\"].unique())\n",
    "item_original_ID_to_index = pd.Series(mapped_id, index=original_id)"
   ]
  },
  {
   "cell_type": "code",
   "execution_count": 26,
   "id": "90f90021",
   "metadata": {
    "execution": {
     "iopub.execute_input": "2022-11-05T16:03:53.159323Z",
     "iopub.status.busy": "2022-11-05T16:03:53.158932Z",
     "iopub.status.idle": "2022-11-05T16:03:53.370407Z",
     "shell.execute_reply": "2022-11-05T16:03:53.369241Z"
    },
    "papermill": {
     "duration": 0.225086,
     "end_time": "2022-11-05T16:03:53.372897",
     "exception": false,
     "start_time": "2022-11-05T16:03:53.147811",
     "status": "completed"
    },
    "tags": []
   },
   "outputs": [
    {
     "data": {
      "text/plain": [
       "UserID          int64\n",
       "ItemID          int64\n",
       "Impressions    object\n",
       "Data            int64\n",
       "dtype: object"
      ]
     },
     "execution_count": 26,
     "metadata": {},
     "output_type": "execute_result"
    }
   ],
   "source": [
    "URM_dataframe[\"ItemID\"] = URM_dataframe[\"ItemID\"].map(item_original_ID_to_index)\n",
    "URM_dataframe.dtypes"
   ]
  },
  {
   "cell_type": "code",
   "execution_count": 27,
   "id": "4e3130ac",
   "metadata": {
    "execution": {
     "iopub.execute_input": "2022-11-05T16:03:53.391208Z",
     "iopub.status.busy": "2022-11-05T16:03:53.390800Z",
     "iopub.status.idle": "2022-11-05T16:03:53.455687Z",
     "shell.execute_reply": "2022-11-05T16:03:53.454566Z"
    },
    "papermill": {
     "duration": 0.077058,
     "end_time": "2022-11-05T16:03:53.458220",
     "exception": false,
     "start_time": "2022-11-05T16:03:53.381162",
     "status": "completed"
    },
    "tags": []
   },
   "outputs": [
    {
     "data": {
      "text/plain": [
       "<41629x24507 sparse matrix of type '<class 'numpy.int64'>'\n",
       "\twith 5826506 stored elements in COOrdinate format>"
      ]
     },
     "execution_count": 27,
     "metadata": {},
     "output_type": "execute_result"
    }
   ],
   "source": [
    "URM = sps.coo_matrix((URM_dataframe[\"Data\"].values, \n",
    "                          (URM_dataframe[\"UserID\"].values, URM_dataframe[\"ItemID\"].values)))\n",
    "URM"
   ]
  },
  {
   "cell_type": "code",
   "execution_count": 28,
   "id": "6fcced31",
   "metadata": {
    "execution": {
     "iopub.execute_input": "2022-11-05T16:03:53.477442Z",
     "iopub.status.busy": "2022-11-05T16:03:53.476299Z",
     "iopub.status.idle": "2022-11-05T16:03:53.790542Z",
     "shell.execute_reply": "2022-11-05T16:03:53.789393Z"
    },
    "papermill": {
     "duration": 0.326515,
     "end_time": "2022-11-05T16:03:53.793213",
     "exception": false,
     "start_time": "2022-11-05T16:03:53.466698",
     "status": "completed"
    },
    "tags": []
   },
   "outputs": [
    {
     "data": {
      "text/plain": [
       "<41629x24507 sparse matrix of type '<class 'numpy.int64'>'\n",
       "\twith 1554640 stored elements in Compressed Sparse Row format>"
      ]
     },
     "execution_count": 28,
     "metadata": {},
     "output_type": "execute_result"
    }
   ],
   "source": [
    "URM.tocsr()"
   ]
  },
  {
   "cell_type": "markdown",
   "id": "e6537f1d",
   "metadata": {
    "papermill": {
     "duration": 0.008193,
     "end_time": "2022-11-05T16:03:53.809902",
     "exception": false,
     "start_time": "2022-11-05T16:03:53.801709",
     "status": "completed"
    },
    "tags": []
   },
   "source": [
    "## As a reminder :\n",
    "*np.ediff1d()* The differences between consecutive elements of an array.\n",
    "\n",
    "**Compressed Row Matrix :**\n",
    "\n",
    "<img src=\"https://i.stack.imgur.com/12bPL.png\" style=\"width:500px;\">"
   ]
  },
  {
   "cell_type": "code",
   "execution_count": 29,
   "id": "bc86680e",
   "metadata": {
    "execution": {
     "iopub.execute_input": "2022-11-05T16:03:53.828914Z",
     "iopub.status.busy": "2022-11-05T16:03:53.827780Z",
     "iopub.status.idle": "2022-11-05T16:03:53.956343Z",
     "shell.execute_reply": "2022-11-05T16:03:53.955237Z"
    },
    "papermill": {
     "duration": 0.140436,
     "end_time": "2022-11-05T16:03:53.958616",
     "exception": false,
     "start_time": "2022-11-05T16:03:53.818180",
     "status": "completed"
    },
    "tags": []
   },
   "outputs": [
    {
     "data": {
      "text/plain": [
       "array([      0,     242,     271, ..., 1554585, 1554614, 1554640],\n",
       "      dtype=int32)"
      ]
     },
     "execution_count": 29,
     "metadata": {},
     "output_type": "execute_result"
    }
   ],
   "source": [
    "URM.tocsc().indptr"
   ]
  },
  {
   "cell_type": "markdown",
   "id": "403cfa21",
   "metadata": {
    "papermill": {
     "duration": 0.008168,
     "end_time": "2022-11-05T16:03:53.975698",
     "exception": false,
     "start_time": "2022-11-05T16:03:53.967530",
     "status": "completed"
    },
    "tags": []
   },
   "source": [
    "We can compute the number of interactions for each items by compute the difference in the index pointer of the CSC ( => number of NNZ)"
   ]
  },
  {
   "cell_type": "code",
   "execution_count": 30,
   "id": "74e14bf5",
   "metadata": {
    "execution": {
     "iopub.execute_input": "2022-11-05T16:03:53.994485Z",
     "iopub.status.busy": "2022-11-05T16:03:53.994052Z",
     "iopub.status.idle": "2022-11-05T16:03:54.117503Z",
     "shell.execute_reply": "2022-11-05T16:03:54.116272Z"
    },
    "papermill": {
     "duration": 0.135828,
     "end_time": "2022-11-05T16:03:54.119912",
     "exception": false,
     "start_time": "2022-11-05T16:03:53.984084",
     "status": "completed"
    },
    "tags": []
   },
   "outputs": [
    {
     "data": {
      "text/plain": [
       "array([242,  29,  35, ...,  27,  29,  26], dtype=int32)"
      ]
     },
     "execution_count": 30,
     "metadata": {},
     "output_type": "execute_result"
    }
   ],
   "source": [
    "item_popularity = np.ediff1d(URM.tocsc().indptr)\n",
    "item_popularity"
   ]
  },
  {
   "cell_type": "code",
   "execution_count": 31,
   "id": "aa73a254",
   "metadata": {
    "execution": {
     "iopub.execute_input": "2022-11-05T16:03:54.139034Z",
     "iopub.status.busy": "2022-11-05T16:03:54.138596Z",
     "iopub.status.idle": "2022-11-05T16:03:54.146436Z",
     "shell.execute_reply": "2022-11-05T16:03:54.145257Z"
    },
    "papermill": {
     "duration": 0.020001,
     "end_time": "2022-11-05T16:03:54.148797",
     "exception": false,
     "start_time": "2022-11-05T16:03:54.128796",
     "status": "completed"
    },
    "tags": []
   },
   "outputs": [
    {
     "data": {
      "text/plain": [
       "array([  12,   13,   13, ..., 5481, 6021, 9481], dtype=int32)"
      ]
     },
     "execution_count": 31,
     "metadata": {},
     "output_type": "execute_result"
    }
   ],
   "source": [
    "item_popularity = np.sort(item_popularity)\n",
    "item_popularity"
   ]
  },
  {
   "cell_type": "code",
   "execution_count": 32,
   "id": "04d6beb4",
   "metadata": {
    "execution": {
     "iopub.execute_input": "2022-11-05T16:03:54.168237Z",
     "iopub.status.busy": "2022-11-05T16:03:54.167788Z",
     "iopub.status.idle": "2022-11-05T16:03:54.408374Z",
     "shell.execute_reply": "2022-11-05T16:03:54.407163Z"
    },
    "papermill": {
     "duration": 0.253128,
     "end_time": "2022-11-05T16:03:54.410866",
     "exception": false,
     "start_time": "2022-11-05T16:03:54.157738",
     "status": "completed"
    },
    "tags": []
   },
   "outputs": [
    {
     "data": {
      "image/png": "[encoded data removed]",
      "text/plain": [
       "<Figure size 432x288 with 1 Axes>"
      ]
     },
     "metadata": {
      "needs_background": "light"
     },
     "output_type": "display_data"
    }
   ],
   "source": [
    "pyplot.plot(item_popularity, 'ro')\n",
    "pyplot.ylabel('Num Interactions ')\n",
    "pyplot.xlabel('Sorted Item')\n",
    "pyplot.show()"
   ]
  },
  {
   "cell_type": "code",
   "execution_count": 33,
   "id": "4ebd1d98",
   "metadata": {
    "execution": {
     "iopub.execute_input": "2022-11-05T16:03:54.484413Z",
     "iopub.status.busy": "2022-11-05T16:03:54.483344Z",
     "iopub.status.idle": "2022-11-05T16:03:54.529886Z",
     "shell.execute_reply": "2022-11-05T16:03:54.528432Z"
    },
    "papermill": {
     "duration": 0.060377,
     "end_time": "2022-11-05T16:03:54.533081",
     "exception": false,
     "start_time": "2022-11-05T16:03:54.472704",
     "status": "completed"
    },
    "tags": []
   },
   "outputs": [
    {
     "name": "stdout",
     "output_type": "stream",
     "text": [
      "Average per-item interactions over the whole dataset 63.44\n",
      "Average per-item interactions for the top 10% popular items 305.72\n",
      "Average per-item interactions for the least 10% popular items 22.21\n",
      "Average per-item interactions for the median 10% popular items 34.46\n"
     ]
    }
   ],
   "source": [
    "n_items = len(URM_dataframe[\"ItemID\"].unique())\n",
    "ten_percent = int(n_items/10)\n",
    "\n",
    "print(\"Average per-item interactions over the whole dataset {:.2f}\".\n",
    "      format(item_popularity.mean()))\n",
    "\n",
    "print(\"Average per-item interactions for the top 10% popular items {:.2f}\".\n",
    "      format(item_popularity[-ten_percent:].mean()))\n",
    "\n",
    "print(\"Average per-item interactions for the least 10% popular items {:.2f}\".\n",
    "      format(item_popularity[:ten_percent].mean()))\n",
    "\n",
    "print(\"Average per-item interactions for the median 10% popular items {:.2f}\".\n",
    "      format(item_popularity[int(n_items*0.45):int(n_items*0.55)].mean()))"
   ]
  },
  {
   "cell_type": "code",
   "execution_count": 34,
   "id": "3cd52911",
   "metadata": {
    "execution": {
     "iopub.execute_input": "2022-11-05T16:03:54.553412Z",
     "iopub.status.busy": "2022-11-05T16:03:54.553008Z",
     "iopub.status.idle": "2022-11-05T16:03:55.085069Z",
     "shell.execute_reply": "2022-11-05T16:03:55.083870Z"
    },
    "papermill": {
     "duration": 0.545143,
     "end_time": "2022-11-05T16:03:55.087677",
     "exception": false,
     "start_time": "2022-11-05T16:03:54.542534",
     "status": "completed"
    },
    "tags": []
   },
   "outputs": [
    {
     "data": {
      "image/png": "[encoded data removed]",
      "text/plain": [
       "<Figure size 432x288 with 1 Axes>"
      ]
     },
     "metadata": {
      "needs_background": "light"
     },
     "output_type": "display_data"
    }
   ],
   "source": [
    "user_activity = np.ediff1d(URM.tocsr().indptr)\n",
    "user_activity = np.sort(user_activity)\n",
    "\n",
    "\n",
    "pyplot.plot(user_activity, 'ro')\n",
    "pyplot.ylabel('Num Interactions ')\n",
    "pyplot.xlabel('Sorted User')\n",
    "pyplot.show()"
   ]
  },
  {
   "cell_type": "markdown",
   "id": "b833196c",
   "metadata": {
    "papermill": {
     "duration": 0.009625,
     "end_time": "2022-11-05T16:03:55.107306",
     "exception": false,
     "start_time": "2022-11-05T16:03:55.097681",
     "status": "completed"
    },
    "tags": []
   },
   "source": [
    "### In order to evaluate our recommender we have to define:\n",
    "* A splitting of the data in URM_train and URM_test\n",
    "* An evaluation metric\n",
    "* A function computing the evaluation for each user\n",
    "\n",
    "### The splitting of the data is very important to ensure your algorithm is evaluated in a realistic scenario by using test it has never seen. We create two splits:\n",
    "#### - Train data: we will use this to train our model\n",
    "#### - Test data: we will use this to evaluate our model"
   ]
  },
  {
   "cell_type": "code",
   "execution_count": 35,
   "id": "5648819c",
   "metadata": {
    "execution": {
     "iopub.execute_input": "2022-11-05T16:03:55.127639Z",
     "iopub.status.busy": "2022-11-05T16:03:55.127208Z",
     "iopub.status.idle": "2022-11-05T16:03:55.316171Z",
     "shell.execute_reply": "2022-11-05T16:03:55.315055Z"
    },
    "papermill": {
     "duration": 0.202011,
     "end_time": "2022-11-05T16:03:55.318690",
     "exception": false,
     "start_time": "2022-11-05T16:03:55.116679",
     "status": "completed"
    },
    "tags": []
   },
   "outputs": [
    {
     "data": {
      "text/plain": [
       "array([ True,  True,  True, ..., False,  True,  True])"
      ]
     },
     "execution_count": 35,
     "metadata": {},
     "output_type": "execute_result"
    }
   ],
   "source": [
    "train_test_split = 0.80\n",
    "\n",
    "n_interactions = URM.nnz\n",
    "\n",
    "\n",
    "train_mask = np.random.choice([True,False], n_interactions, p=[train_test_split, 1-train_test_split])\n",
    "train_mask"
   ]
  },
  {
   "cell_type": "code",
   "execution_count": 36,
   "id": "3cf74131",
   "metadata": {
    "execution": {
     "iopub.execute_input": "2022-11-05T16:03:55.339452Z",
     "iopub.status.busy": "2022-11-05T16:03:55.339030Z",
     "iopub.status.idle": "2022-11-05T16:03:55.723981Z",
     "shell.execute_reply": "2022-11-05T16:03:55.722853Z"
    },
    "papermill": {
     "duration": 0.398683,
     "end_time": "2022-11-05T16:03:55.726998",
     "exception": false,
     "start_time": "2022-11-05T16:03:55.328315",
     "status": "completed"
    },
    "tags": []
   },
   "outputs": [
    {
     "data": {
      "text/plain": [
       "<41629x24507 sparse matrix of type '<class 'numpy.int64'>'\n",
       "\twith 1311346 stored elements in Compressed Sparse Row format>"
      ]
     },
     "execution_count": 36,
     "metadata": {},
     "output_type": "execute_result"
    }
   ],
   "source": [
    "URM_train = sps.csr_matrix((URM.data[train_mask],\n",
    "                            (URM.row[train_mask], URM.col[train_mask])))\n",
    "\n",
    "URM_train"
   ]
  },
  {
   "cell_type": "code",
   "execution_count": 37,
   "id": "ae7e9dee",
   "metadata": {
    "execution": {
     "iopub.execute_input": "2022-11-05T16:03:55.753511Z",
     "iopub.status.busy": "2022-11-05T16:03:55.753007Z",
     "iopub.status.idle": "2022-11-05T16:03:55.940565Z",
     "shell.execute_reply": "2022-11-05T16:03:55.939601Z"
    },
    "papermill": {
     "duration": 0.202443,
     "end_time": "2022-11-05T16:03:55.943504",
     "exception": false,
     "start_time": "2022-11-05T16:03:55.741061",
     "status": "completed"
    },
    "tags": []
   },
   "outputs": [
    {
     "data": {
      "text/plain": [
       "<41629x24507 sparse matrix of type '<class 'numpy.int64'>'\n",
       "\twith 470200 stored elements in Compressed Sparse Row format>"
      ]
     },
     "execution_count": 37,
     "metadata": {},
     "output_type": "execute_result"
    }
   ],
   "source": [
    "test_mask = np.logical_not(train_mask)\n",
    "\n",
    "URM_test = sps.csr_matrix((URM.data[test_mask],\n",
    "                            (URM.row[test_mask], URM.col[test_mask])))\n",
    "\n",
    "URM_test"
   ]
  },
  {
   "cell_type": "markdown",
   "id": "57bc964e",
   "metadata": {
    "papermill": {
     "duration": 0.011996,
     "end_time": "2022-11-05T16:03:55.969869",
     "exception": false,
     "start_time": "2022-11-05T16:03:55.957873",
     "status": "completed"
    },
    "tags": []
   },
   "source": [
    "### Evaluation metric\n",
    "#### We call items in the test set 'relevant"
   ]
  },
  {
   "cell_type": "code",
   "execution_count": 38,
   "id": "b861d2e2",
   "metadata": {
    "execution": {
     "iopub.execute_input": "2022-11-05T16:03:55.990614Z",
     "iopub.status.busy": "2022-11-05T16:03:55.990216Z",
     "iopub.status.idle": "2022-11-05T16:03:55.997953Z",
     "shell.execute_reply": "2022-11-05T16:03:55.996852Z"
    },
    "papermill": {
     "duration": 0.02133,
     "end_time": "2022-11-05T16:03:56.000807",
     "exception": false,
     "start_time": "2022-11-05T16:03:55.979477",
     "status": "completed"
    },
    "tags": []
   },
   "outputs": [
    {
     "data": {
      "text/plain": [
       "array([ 5834, 13738, 14913, 16522])"
      ]
     },
     "execution_count": 38,
     "metadata": {},
     "output_type": "execute_result"
    }
   ],
   "source": [
    "user_id = 124\n",
    "relevant_items = URM_test[user_id].indices\n",
    "relevant_items"
   ]
  },
  {
   "cell_type": "markdown",
   "id": "b75f0d3d",
   "metadata": {
    "papermill": {
     "duration": 0.009816,
     "end_time": "2022-11-05T16:03:56.024525",
     "exception": false,
     "start_time": "2022-11-05T16:03:56.014709",
     "status": "completed"
    },
    "tags": []
   },
   "source": [
    "#### Say that we have a recommendation list such as this"
   ]
  },
  {
   "cell_type": "code",
   "execution_count": 39,
   "id": "47d025bd",
   "metadata": {
    "execution": {
     "iopub.execute_input": "2022-11-05T16:03:56.045900Z",
     "iopub.status.busy": "2022-11-05T16:03:56.045466Z",
     "iopub.status.idle": "2022-11-05T16:03:56.052836Z",
     "shell.execute_reply": "2022-11-05T16:03:56.051696Z"
    },
    "papermill": {
     "duration": 0.020705,
     "end_time": "2022-11-05T16:03:56.055128",
     "exception": false,
     "start_time": "2022-11-05T16:03:56.034423",
     "status": "completed"
    },
    "tags": []
   },
   "outputs": [
    {
     "data": {
      "text/plain": [
       "array([6060, 1622,   15,  857, 5823])"
      ]
     },
     "execution_count": 39,
     "metadata": {},
     "output_type": "execute_result"
    }
   ],
   "source": [
    "recommended_items = np.array([6060, 1622, 15, 857, 5823])\n",
    "recommended_items"
   ]
  },
  {
   "cell_type": "code",
   "execution_count": 40,
   "id": "bff1ab19",
   "metadata": {
    "execution": {
     "iopub.execute_input": "2022-11-05T16:03:56.076527Z",
     "iopub.status.busy": "2022-11-05T16:03:56.076088Z",
     "iopub.status.idle": "2022-11-05T16:03:56.083516Z",
     "shell.execute_reply": "2022-11-05T16:03:56.082362Z"
    },
    "papermill": {
     "duration": 0.020912,
     "end_time": "2022-11-05T16:03:56.085770",
     "exception": false,
     "start_time": "2022-11-05T16:03:56.064858",
     "status": "completed"
    },
    "tags": []
   },
   "outputs": [
    {
     "data": {
      "text/plain": [
       "array([False, False, False, False, False])"
      ]
     },
     "execution_count": 40,
     "metadata": {},
     "output_type": "execute_result"
    }
   ],
   "source": [
    "is_relevant = np.in1d(recommended_items, relevant_items, assume_unique=True)\n",
    "is_relevant"
   ]
  },
  {
   "cell_type": "markdown",
   "id": "a678062c",
   "metadata": {
    "papermill": {
     "duration": 0.00995,
     "end_time": "2022-11-05T16:03:56.105583",
     "exception": false,
     "start_time": "2022-11-05T16:03:56.095633",
     "status": "completed"
    },
    "tags": []
   },
   "source": [
    "### Precision: how many of the recommended items are relevant"
   ]
  },
  {
   "cell_type": "code",
   "execution_count": 41,
   "id": "cc96c8fd",
   "metadata": {
    "execution": {
     "iopub.execute_input": "2022-11-05T16:03:56.126947Z",
     "iopub.status.busy": "2022-11-05T16:03:56.126483Z",
     "iopub.status.idle": "2022-11-05T16:03:56.133643Z",
     "shell.execute_reply": "2022-11-05T16:03:56.132430Z"
    },
    "papermill": {
     "duration": 0.020686,
     "end_time": "2022-11-05T16:03:56.136211",
     "exception": false,
     "start_time": "2022-11-05T16:03:56.115525",
     "status": "completed"
    },
    "tags": []
   },
   "outputs": [],
   "source": [
    "def precision(recommended_items, relevant_items):\n",
    "    \n",
    "    is_relevant = np.in1d(recommended_items, relevant_items, assume_unique=True)\n",
    "    #Tableau des items recommandés qui sont pertinents\n",
    "    \n",
    "    precision_score = np.sum(is_relevant, dtype=np.float32) / len(is_relevant)\n",
    "    #Nombre de items recommandés qui sont pertinents / Nombre total d'items recommandés\n",
    "    \n",
    "    return precision_score"
   ]
  },
  {
   "cell_type": "code",
   "execution_count": 42,
   "id": "cfac6bfa",
   "metadata": {
    "execution": {
     "iopub.execute_input": "2022-11-05T16:03:56.158288Z",
     "iopub.status.busy": "2022-11-05T16:03:56.157555Z",
     "iopub.status.idle": "2022-11-05T16:03:56.163836Z",
     "shell.execute_reply": "2022-11-05T16:03:56.162685Z"
    },
    "papermill": {
     "duration": 0.020329,
     "end_time": "2022-11-05T16:03:56.166546",
     "exception": false,
     "start_time": "2022-11-05T16:03:56.146217",
     "status": "completed"
    },
    "tags": []
   },
   "outputs": [],
   "source": [
    "def recall(recommended_items, relevant_items):\n",
    "    \n",
    "    is_relevant = np.in1d(recommended_items, relevant_items, assume_unique=True)\n",
    "    \n",
    "    recall_score = np.sum(is_relevant, dtype=np.float32) / relevant_items.shape[0]\n",
    "    #Nombre de items recommandés qui sont pertinents / Nombre total d'items pertinents\n",
    "    \n",
    "    return recall_score"
   ]
  },
  {
   "cell_type": "code",
   "execution_count": 43,
   "id": "8a5600dd",
   "metadata": {
    "execution": {
     "iopub.execute_input": "2022-11-05T16:03:56.195056Z",
     "iopub.status.busy": "2022-11-05T16:03:56.194276Z",
     "iopub.status.idle": "2022-11-05T16:03:56.201975Z",
     "shell.execute_reply": "2022-11-05T16:03:56.200859Z"
    },
    "papermill": {
     "duration": 0.022739,
     "end_time": "2022-11-05T16:03:56.204343",
     "exception": false,
     "start_time": "2022-11-05T16:03:56.181604",
     "status": "completed"
    },
    "tags": []
   },
   "outputs": [],
   "source": [
    "def AP(recommended_items, relevant_items):\n",
    "   \n",
    "    is_relevant = np.in1d(recommended_items, relevant_items, assume_unique=True)\n",
    "    \n",
    "    # Cumulative sum: precision at 1, at 2, at 3 ...\n",
    "    p_at_k = is_relevant * np.cumsum(is_relevant, dtype=np.float32) / (1 + np.arange(is_relevant.shape[0]))\n",
    "    \n",
    "    ap_score = np.sum(p_at_k) / np.min([relevant_items.shape[0], is_relevant.shape[0]])\n",
    "\n",
    "    return ap_score"
   ]
  },
  {
   "cell_type": "markdown",
   "id": "62499300",
   "metadata": {},
   "source": [
    "### Now that we have the data, we can build our first recommender. We need two things:\n",
    "* a 'fit' function to train our model\n",
    "* a 'recommend' function that uses our model to recommend\n",
    "\n",
    "### Let's start with a random recommender"
   ]
  },
  {
   "cell_type": "code",
   "execution_count": 44,
   "id": "ea633011",
   "metadata": {
    "execution": {
     "iopub.execute_input": "2022-11-05T15:46:21.069393Z",
     "iopub.status.busy": "2022-11-05T15:46:21.068870Z",
     "iopub.status.idle": "2022-11-05T15:46:21.077793Z",
     "shell.execute_reply": "2022-11-05T15:46:21.076637Z",
     "shell.execute_reply.started": "2022-11-05T15:46:21.069351Z"
    },
    "papermill": {
     "duration": 0.009753,
     "end_time": "2022-11-05T16:03:56.224168",
     "exception": false,
     "start_time": "2022-11-05T16:03:56.214415",
     "status": "completed"
    },
    "tags": []
   },
   "outputs": [],
   "source": [
    "class RandomRecommender(object):\n",
    "\n",
    "    def fit(self, URM_train):\n",
    "           \n",
    "        self.n_items = URM_train.shape[1]\n",
    "        #Nombre d'items dans la matrice URM_train\n",
    "    \n",
    "    \n",
    "    def recommend(self, user_id, at=5):\n",
    "    \n",
    "        recommended_items = np.random.choice(self.n_items, at)\n",
    "        #Choix aléatoire de 5 items parmi le nombre d'items dans la matrice URM_train\n",
    "\n",
    "        return recommended_items"
   ]
  },
  {
   "cell_type": "code",
   "execution_count": 45,
   "id": "67e49315",
   "metadata": {},
   "outputs": [
    {
     "name": "stdout",
     "output_type": "stream",
     "text": [
      "[17527 22370 12693  8963  7672]\n",
      "[23328  8689  3054 22424  8464]\n",
      "[ 2515 14962 17422 17976  9927]\n",
      "[14377 17572 18695  3449 17583]\n",
      "[12345 20712 21207 22059 11970]\n",
      "[ 6120  1069 21885 10220 14872]\n",
      "[16338  5265  1150 13264 14135]\n",
      "[22574 15751 22839 15390 14981]\n",
      "[ 7752 23727 12156  7835   342]\n",
      "[12378 20697 19934  1909  8272]\n"
     ]
    }
   ],
   "source": [
    "randomRecommender = RandomRecommender()\n",
    "randomRecommender.fit(URM_train)\n",
    "#On entraine le modèle sur la matrice URM_train\n",
    "\n",
    "for user_id in range(10):\n",
    "    print(randomRecommender.recommend(user_id, at=5))"
   ]
  },
  {
   "cell_type": "markdown",
   "id": "b2a5c9b6",
   "metadata": {},
   "source": [
    "### Put all together in an evaluation function and let's test it!"
   ]
  },
  {
   "cell_type": "code",
   "execution_count": 46,
   "id": "d90d14c0",
   "metadata": {},
   "outputs": [],
   "source": [
    "# We pass as paramether the recommender class\n",
    "\n",
    "def evaluate_algorithm(URM_test, recommender_object, at=5):\n",
    "    \n",
    "    cumulative_precision = 0.0\n",
    "    cumulative_recall = 0.0\n",
    "    cumulative_AP = 0.0\n",
    "    \n",
    "    num_eval = 0\n",
    "\n",
    "\n",
    "    for user_id in range(URM_test.shape[0]): #Pour chaque utilisateur dans la matrice URM_test\n",
    "\n",
    "        relevant_items = URM_test.indices[URM_test.indptr[user_id]:URM_test.indptr[user_id+1]] #On récupère les items pertinents pour l'utilisateur\n",
    "        \n",
    "        if len(relevant_items)>0:\n",
    "            \n",
    "            recommended_items = recommender_object.recommend(user_id, at=at) #On récupère les items recommandés pour l'utilisateur\n",
    "            num_eval+=1 #On incrémente le nombre d'évaluations\n",
    "\n",
    "            cumulative_precision += precision(recommended_items, relevant_items) #On calcule la précision\n",
    "            cumulative_recall += recall(recommended_items, relevant_items) #On calcule le rappel\n",
    "            cumulative_AP += AP(recommended_items, relevant_items) #On calcule la moyenne des précisions\n",
    "            \n",
    "    cumulative_precision /= num_eval #On calcule la précision moyenne\n",
    "    cumulative_recall /= num_eval #On calcule le rappel moyen\n",
    "    MAP = cumulative_AP / num_eval  #On calcule la moyenne des précisions moyenne\n",
    "    \n",
    "    print(\"Recommender results are: Precision = {:.4f}, Recall = {:.4f}, MAP = {:.4f}\".format(\n",
    "        cumulative_precision, cumulative_recall, MAP)) \n"
   ]
  },
  {
   "cell_type": "code",
   "execution_count": 47,
   "id": "3a96fa09",
   "metadata": {},
   "outputs": [
    {
     "name": "stdout",
     "output_type": "stream",
     "text": [
      "Recommender results are: Precision = 0.0005, Recall = 0.0002, MAP = 0.0002\n"
     ]
    }
   ],
   "source": [
    "#evaluate_algorithm(URM_test, randomRecommender)"
   ]
  },
  {
   "cell_type": "markdown",
   "id": "118a400f",
   "metadata": {},
   "source": [
    "# Top Popular recommender\n",
    "\n",
    "#### We recommend to all users the most popular items, that is those with the highest number of interactions\n",
    "#### In this case our model is the item popularity"
   ]
  },
  {
   "cell_type": "code",
   "execution_count": 48,
   "id": "b61089bd",
   "metadata": {},
   "outputs": [],
   "source": [
    "class TopPopRecommender(object):\n",
    "\n",
    "    def fit(self, URM_train):\n",
    "\n",
    "        item_popularity = np.ediff1d(URM_train.tocsc().indptr)\n",
    "\n",
    "        # We are not interested in sorting the popularity value,\n",
    "        # but to order the items according to it\n",
    "        self.popular_items = np.argsort(item_popularity)\n",
    "        self.popular_items = np.flip(self.popular_items, axis = 0)\n",
    "    \n",
    "    \n",
    "    def recommend(self, user_id, at=5):\n",
    "    \n",
    "        recommended_items = self.popular_items[0:at]\n",
    "\n",
    "        return recommended_items\n",
    "\n"
   ]
  },
  {
   "cell_type": "code",
   "execution_count": 49,
   "id": "5e093324",
   "metadata": {},
   "outputs": [],
   "source": [
    "TopPopRecommender = TopPopRecommender()\n",
    "TopPopRecommender.fit(URM_train)"
   ]
  },
  {
   "cell_type": "code",
   "execution_count": 50,
   "id": "40b535c7",
   "metadata": {},
   "outputs": [
    {
     "name": "stdout",
     "output_type": "stream",
     "text": [
      "Recommender results are: Precision = 0.0649, Recall = 0.0568, MAP = 0.0393\n"
     ]
    }
   ],
   "source": [
    "#evaluate_algorithm(URM_test, TopPopRecommender, at=10)"
   ]
  },
  {
   "cell_type": "code",
   "execution_count": 76,
   "id": "381b9582",
   "metadata": {},
   "outputs": [
    {
     "data": {
      "text/plain": [
       "RangeIndex(start=0, stop=41116, step=1)"
      ]
     },
     "execution_count": 76,
     "metadata": {},
     "output_type": "execute_result"
    }
   ],
   "source": [
    "submission = submission_sample.copy()\n",
    "submission_sample.index"
   ]
  },
  {
   "cell_type": "code",
   "execution_count": 81,
   "id": "f6ac8de9",
   "metadata": {},
   "outputs": [
    {
     "name": "stdout",
     "output_type": "stream",
     "text": [
      "0.0 %\n",
      "0.9996108570872653 %\n",
      "1.9992217141745305 %\n",
      "2.998832571261796 %\n",
      "3.998443428349061 %\n",
      "4.998054285436327 %\n",
      "5.997665142523592 %\n",
      "6.9972759996108564 %\n",
      "7.996886856698122 %\n",
      "8.996497713785388 %\n",
      "9.996108570872654 %\n",
      "10.99571942795992 %\n",
      "11.995330285047183 %\n",
      "12.99494114213445 %\n",
      "13.994551999221713 %\n",
      "14.994162856308979 %\n",
      "15.993773713396244 %\n",
      "16.99338457048351 %\n",
      "17.992995427570776 %\n",
      "18.992606284658038 %\n",
      "19.992217141745307 %\n",
      "20.991827998832573 %\n",
      "21.99143885591984 %\n",
      "22.991049713007104 %\n",
      "23.990660570094366 %\n",
      "24.990271427181632 %\n",
      "25.9898822842689 %\n",
      "26.989493141356164 %\n",
      "27.989103998443426 %\n",
      "28.988714855530695 %\n",
      "29.988325712617957 %\n",
      "30.987936569705226 %\n",
      "31.98754742679249 %\n",
      "32.98715828387975 %\n",
      "33.98676914096702 %\n",
      "34.98637999805428 %\n",
      "35.98599085514155 %\n",
      "36.985601712228814 %\n",
      "37.985212569316076 %\n",
      "38.984823426403345 %\n",
      "39.984434283490614 %\n",
      "40.98404514057788 %\n",
      "41.983655997665146 %\n",
      "42.98326685475241 %\n",
      "43.98287771183968 %\n",
      "44.98248856892694 %\n",
      "45.98209942601421 %\n",
      "46.98171028310147 %\n",
      "47.98132114018873 %\n",
      "48.980931997276 %\n",
      "49.980542854363264 %\n",
      "50.98015371145053 %\n",
      "51.9797645685378 %\n",
      "52.979375425625065 %\n",
      "53.97898628271233 %\n",
      "54.97859713979959 %\n",
      "55.97820799688685 %\n",
      "56.97781885397413 %\n",
      "57.97742971106139 %\n",
      "58.97704056814865 %\n",
      "59.976651425235914 %\n",
      "60.97626228232318 %\n",
      "61.97587313941045 %\n",
      "62.975483996497715 %\n",
      "63.97509485358498 %\n",
      "64.97470571067224 %\n",
      "65.9743165677595 %\n",
      "66.97392742484678 %\n",
      "67.97353828193404 %\n",
      "68.9731491390213 %\n",
      "69.97275999610856 %\n",
      "70.97237085319583 %\n",
      "71.9719817102831 %\n",
      "72.97159256737037 %\n",
      "73.97120342445763 %\n",
      "74.97081428154489 %\n",
      "75.97042513863215 %\n",
      "76.97003599571943 %\n",
      "77.96964685280669 %\n",
      "78.96925770989395 %\n",
      "79.96886856698123 %\n",
      "80.96847942406849 %\n",
      "81.96809028115575 %\n",
      "82.96770113824302 %\n",
      "83.96731199533029 %\n",
      "84.96692285241755 %\n",
      "85.96653370950482 %\n",
      "86.96614456659208 %\n",
      "87.96575542367935 %\n",
      "88.96536628076662 %\n",
      "89.96497713785388 %\n",
      "90.96458799494114 %\n",
      "91.96419885202842 %\n",
      "92.96380970911568 %\n",
      "93.96342056620294 %\n",
      "94.9630314232902 %\n",
      "95.96264228037747 %\n",
      "96.96225313746474 %\n",
      "97.961863994552 %\n",
      "98.96147485163927 %\n",
      "99.96108570872653 %\n"
     ]
    },
    {
     "data": {
      "text/html": [
       "<div>\n",
       "<style scoped>\n",
       "    .dataframe tbody tr th:only-of-type {\n",
       "        vertical-align: middle;\n",
       "    }\n",
       "\n",
       "    .dataframe tbody tr th {\n",
       "        vertical-align: top;\n",
       "    }\n",
       "\n",
       "    .dataframe thead th {\n",
       "        text-align: right;\n",
       "    }\n",
       "</style>\n",
       "<table border=\"1\" class=\"dataframe\">\n",
       "  <thead>\n",
       "    <tr style=\"text-align: right;\">\n",
       "      <th></th>\n",
       "      <th>user_id</th>\n",
       "      <th>item_list</th>\n",
       "    </tr>\n",
       "  </thead>\n",
       "  <tbody>\n",
       "    <tr>\n",
       "      <th>0</th>\n",
       "      <td>0</td>\n",
       "      <td>4744 14543 10697 2759 2425 842 2027 3072 7697 66</td>\n",
       "    </tr>\n",
       "    <tr>\n",
       "      <th>1</th>\n",
       "      <td>1</td>\n",
       "      <td>4744 14543 10697 2759 2425 842 2027 3072 7697 66</td>\n",
       "    </tr>\n",
       "    <tr>\n",
       "      <th>2</th>\n",
       "      <td>2</td>\n",
       "      <td>4744 14543 10697 2759 2425 842 2027 3072 7697 66</td>\n",
       "    </tr>\n",
       "    <tr>\n",
       "      <th>3</th>\n",
       "      <td>3</td>\n",
       "      <td>4744 14543 10697 2759 2425 842 2027 3072 7697 66</td>\n",
       "    </tr>\n",
       "    <tr>\n",
       "      <th>4</th>\n",
       "      <td>4</td>\n",
       "      <td>4744 14543 10697 2759 2425 842 2027 3072 7697 66</td>\n",
       "    </tr>\n",
       "    <tr>\n",
       "      <th>...</th>\n",
       "      <td>...</td>\n",
       "      <td>...</td>\n",
       "    </tr>\n",
       "    <tr>\n",
       "      <th>41111</th>\n",
       "      <td>41624</td>\n",
       "      <td>4744 14543 10697 2759 2425 842 2027 3072 7697 66</td>\n",
       "    </tr>\n",
       "    <tr>\n",
       "      <th>41112</th>\n",
       "      <td>41625</td>\n",
       "      <td>4744 14543 10697 2759 2425 842 2027 3072 7697 66</td>\n",
       "    </tr>\n",
       "    <tr>\n",
       "      <th>41113</th>\n",
       "      <td>41626</td>\n",
       "      <td>4744 14543 10697 2759 2425 842 2027 3072 7697 66</td>\n",
       "    </tr>\n",
       "    <tr>\n",
       "      <th>41114</th>\n",
       "      <td>41627</td>\n",
       "      <td>4744 14543 10697 2759 2425 842 2027 3072 7697 66</td>\n",
       "    </tr>\n",
       "    <tr>\n",
       "      <th>41115</th>\n",
       "      <td>41628</td>\n",
       "      <td>4744 14543 10697 2759 2425 842 2027 3072 7697 66</td>\n",
       "    </tr>\n",
       "  </tbody>\n",
       "</table>\n",
       "<p>41116 rows × 2 columns</p>\n",
       "</div>"
      ],
      "text/plain": [
       "       user_id                                         item_list\n",
       "0            0  4744 14543 10697 2759 2425 842 2027 3072 7697 66\n",
       "1            1  4744 14543 10697 2759 2425 842 2027 3072 7697 66\n",
       "2            2  4744 14543 10697 2759 2425 842 2027 3072 7697 66\n",
       "3            3  4744 14543 10697 2759 2425 842 2027 3072 7697 66\n",
       "4            4  4744 14543 10697 2759 2425 842 2027 3072 7697 66\n",
       "...        ...                                               ...\n",
       "41111    41624  4744 14543 10697 2759 2425 842 2027 3072 7697 66\n",
       "41112    41625  4744 14543 10697 2759 2425 842 2027 3072 7697 66\n",
       "41113    41626  4744 14543 10697 2759 2425 842 2027 3072 7697 66\n",
       "41114    41627  4744 14543 10697 2759 2425 842 2027 3072 7697 66\n",
       "41115    41628  4744 14543 10697 2759 2425 842 2027 3072 7697 66\n",
       "\n",
       "[41116 rows x 2 columns]"
      ]
     },
     "execution_count": 81,
     "metadata": {},
     "output_type": "execute_result"
    }
   ],
   "source": [
    "for i in submission_sample.index:\n",
    "    submission_sample.loc[i, 'item_list'] = ' '.join([str(s) for s in TopPopRecommender.recommend(i, at=10)])\n",
    "    if i%411==0 :\n",
    "        print(i/len(submission_sample.index)*100, '%')\n",
    "    #print(submission['user_id'][i], i)\n",
    "\n",
    "submission_sample\n",
    "#submission.to_csv(\"sample_submission.csv\", index=False)"
   ]
  },
  {
   "cell_type": "code",
   "execution_count": null,
   "id": "13111fc4",
   "metadata": {},
   "outputs": [],
   "source": [
    "submission_sample.to_csv(\"sample_submission.csv\", index=False)"
   ]
  }
 ],
 "metadata": {
  "kernelspec": {
   "display_name": "Python 3.9.13 64-bit (microsoft store)",
   "language": "python",
   "name": "python3"
  },
  "language_info": {
   "codemirror_mode": {
    "name": "ipython",
    "version": 3
   },
   "file_extension": ".py",
   "mimetype": "text/x-python",
   "name": "python",
   "nbconvert_exporter": "python",
   "pygments_lexer": "ipython3",
   "version": "3.9.13"
  },
  "papermill": {
   "default_parameters": {},
   "duration": 15.785358,
   "end_time": "2022-11-05T16:03:56.855943",
   "environment_variables": {},
   "exception": null,
   "input_path": "__notebook__.ipynb",
   "output_path": "__notebook__.ipynb",
   "parameters": {},
   "start_time": "2022-11-05T16:03:41.070585",
   "version": "2.3.4"
  },
  "vscode": {
   "interpreter": {
    "hash": "8b24c27da1e111ff50c29a573bc55d4c53ca444ebd5b50f2f026728ea3d15de1"
   }
  }
 },
 "nbformat": 4,
 "nbformat_minor": 5
}
