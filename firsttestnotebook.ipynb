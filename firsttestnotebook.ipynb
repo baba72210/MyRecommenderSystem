{
 "cells": [
  {
   "cell_type": "code",
   "execution_count": 47,
   "id": "c93ee72a",
   "metadata": {
    "_cell_guid": "b1076dfc-b9ad-4769-8c92-a6c4dae69d19",
    "_uuid": "8f2839f25d086af736a60e9eeb907d3b93b6e0e5",
    "execution": {
     "iopub.execute_input": "2022-11-05T16:03:49.557304Z",
     "iopub.status.busy": "2022-11-05T16:03:49.556871Z",
     "iopub.status.idle": "2022-11-05T16:03:49.570118Z",
     "shell.execute_reply": "2022-11-05T16:03:49.568647Z"
    },
    "papermill": {
     "duration": 0.026788,
     "end_time": "2022-11-05T16:03:49.573115",
     "exception": false,
     "start_time": "2022-11-05T16:03:49.546327",
     "status": "completed"
    },
    "tags": []
   },
   "outputs": [],
   "source": [
    "# This Python 3 environment comes with many helpful analytics libraries installed\n",
    "# It is defined by the kaggle/python Docker image: https://github.com/kaggle/docker-python\n",
    "# For example, here's several helpful packages to load\n",
    "\n",
    "import numpy as np # linear algebra\n",
    "import pandas as pd # data processing, CSV file I/O (e.g. pd.read_csv)\n",
    "\n",
    "# Input data files are available in the read-only \"../input/\" directory\n",
    "# For example, running this (by clicking run or pressing Shift+Enter) will list all files under the input directory\n",
    "\n",
    "import os\n",
    "for dirname, _, filenames in os.walk('/kaggle/input'):\n",
    "    for filename in filenames:\n",
    "        print(os.path.join(dirname, filename))\n",
    "\n",
    "# You can write up to 20GB to the current directory (/kaggle/working/) that gets preserved as output when you create a version using \"Save & Run All\" \n",
    "# You can also write temporary files to /kaggle/temp/, but they won't be saved outside of the current session"
   ]
  },
  {
   "cell_type": "code",
   "execution_count": 48,
   "id": "ed6bb85a",
   "metadata": {
    "execution": {
     "iopub.execute_input": "2022-11-05T16:03:49.589853Z",
     "iopub.status.busy": "2022-11-05T16:03:49.589421Z",
     "iopub.status.idle": "2022-11-05T16:03:49.681837Z",
     "shell.execute_reply": "2022-11-05T16:03:49.680791Z"
    },
    "papermill": {
     "duration": 0.104206,
     "end_time": "2022-11-05T16:03:49.685050",
     "exception": false,
     "start_time": "2022-11-05T16:03:49.580844",
     "status": "completed"
    },
    "tags": []
   },
   "outputs": [],
   "source": [
    "import scipy.sparse as sps\n",
    "import matplotlib.pyplot as pyplot"
   ]
  },
  {
   "cell_type": "code",
   "execution_count": 72,
   "id": "59c5b707",
   "metadata": {
    "execution": {
     "iopub.execute_input": "2022-11-05T16:03:49.702165Z",
     "iopub.status.busy": "2022-11-05T16:03:49.701297Z",
     "iopub.status.idle": "2022-11-05T16:03:52.462936Z",
     "shell.execute_reply": "2022-11-05T16:03:52.461591Z"
    },
    "papermill": {
     "duration": 2.773333,
     "end_time": "2022-11-05T16:03:52.465930",
     "exception": false,
     "start_time": "2022-11-05T16:03:49.692597",
     "status": "completed"
    },
    "tags": []
   },
   "outputs": [
    {
     "name": "stderr",
     "output_type": "stream",
     "text": [
      "C:\\Users\\baba7\\AppData\\Local\\Packages\\PythonSoftwareFoundation.Python.3.9_qbz5n2kfra8p0\\LocalCache\\local-packages\\Python39\\site-packages\\IPython\\core\\interactiveshell.py:3361: DtypeWarning: Columns (2) have mixed types.Specify dtype option on import or set low_memory=False.\n",
      "  exec(code_obj, self.user_global_ns, self.user_ns)\n"
     ]
    }
   ],
   "source": [
    "list_of_files = []\n",
    "for dirname, _, filenames in os.walk('.'):\n",
    "    for filename in filenames:\n",
    "        list_of_files.append(os.path.join(dirname, filename))\n",
    "\n",
    "for file in list_of_files:\n",
    "    if file.endswith(\"interactions_and_impressions.csv\"):\n",
    "        URM_dataframe = pd.read_csv(file)\n"
   ]
  },
  {
   "cell_type": "code",
   "execution_count": 50,
   "id": "bc78b50a",
   "metadata": {
    "execution": {
     "iopub.execute_input": "2022-11-05T16:03:52.483827Z",
     "iopub.status.busy": "2022-11-05T16:03:52.482778Z",
     "iopub.status.idle": "2022-11-05T16:03:52.510250Z",
     "shell.execute_reply": "2022-11-05T16:03:52.508942Z"
    },
    "papermill": {
     "duration": 0.038899,
     "end_time": "2022-11-05T16:03:52.512845",
     "exception": false,
     "start_time": "2022-11-05T16:03:52.473946",
     "status": "completed"
    },
    "tags": []
   },
   "outputs": [],
   "source": [
    "URM_dataframe.columns = [\"UserID\", \"ItemID\", \"Impressions\", \"Data\"]"
   ]
  },
  {
   "cell_type": "code",
   "execution_count": 51,
   "id": "b031d7a7",
   "metadata": {
    "execution": {
     "iopub.execute_input": "2022-11-05T16:03:52.530303Z",
     "iopub.status.busy": "2022-11-05T16:03:52.529931Z",
     "iopub.status.idle": "2022-11-05T16:03:53.014356Z",
     "shell.execute_reply": "2022-11-05T16:03:53.013028Z"
    },
    "papermill": {
     "duration": 0.496541,
     "end_time": "2022-11-05T16:03:53.017311",
     "exception": false,
     "start_time": "2022-11-05T16:03:52.520770",
     "status": "completed"
    },
    "tags": []
   },
   "outputs": [
    {
     "name": "stdout",
     "output_type": "stream",
     "text": [
      "The number of interactions is 5826506\n",
      "The number of users is 41629\n",
      "The number of items is 24507\n",
      "The number of items viewed is 2259027\n",
      "The number of details page openned is 3567479\n"
     ]
    }
   ],
   "source": [
    "print (\"The number of interactions is {}\".format(len(URM_dataframe)))\n",
    "print (\"The number of users is {}\".format(len(URM_dataframe[\"UserID\"].unique())))\n",
    "print (\"The number of items is {}\".format(len(URM_dataframe[\"ItemID\"].unique())))\n",
    "print (\"The number of items viewed is {}\".format(len(URM_dataframe.loc[(URM_dataframe[\"Data\"]==1)])))\n",
    "print (\"The number of details page openned is {}\".format(len(URM_dataframe.loc[(URM_dataframe[\"Data\"]==0)])))"
   ]
  },
  {
   "cell_type": "code",
   "execution_count": 52,
   "id": "5caab32f",
   "metadata": {
    "execution": {
     "iopub.execute_input": "2022-11-05T16:03:53.037775Z",
     "iopub.status.busy": "2022-11-05T16:03:53.036581Z",
     "iopub.status.idle": "2022-11-05T16:03:53.135983Z",
     "shell.execute_reply": "2022-11-05T16:03:53.134544Z"
    },
    "papermill": {
     "duration": 0.11148,
     "end_time": "2022-11-05T16:03:53.138836",
     "exception": false,
     "start_time": "2022-11-05T16:03:53.027356",
     "status": "completed"
    },
    "tags": []
   },
   "outputs": [],
   "source": [
    "mapped_id, original_id = pd.factorize(URM_dataframe[\"UserID\"].unique())\n",
    "user_original_ID_to_index = pd.Series(mapped_id, index=original_id)\n",
    "\n",
    "mapped_id, original_id = pd.factorize(URM_dataframe[\"ItemID\"].unique())\n",
    "item_original_ID_to_index = pd.Series(mapped_id, index=original_id)"
   ]
  },
  {
   "cell_type": "code",
   "execution_count": 53,
   "id": "90f90021",
   "metadata": {
    "execution": {
     "iopub.execute_input": "2022-11-05T16:03:53.159323Z",
     "iopub.status.busy": "2022-11-05T16:03:53.158932Z",
     "iopub.status.idle": "2022-11-05T16:03:53.370407Z",
     "shell.execute_reply": "2022-11-05T16:03:53.369241Z"
    },
    "papermill": {
     "duration": 0.225086,
     "end_time": "2022-11-05T16:03:53.372897",
     "exception": false,
     "start_time": "2022-11-05T16:03:53.147811",
     "status": "completed"
    },
    "tags": []
   },
   "outputs": [
    {
     "data": {
      "text/plain": [
       "UserID          int64\n",
       "ItemID          int64\n",
       "Impressions    object\n",
       "Data            int64\n",
       "dtype: object"
      ]
     },
     "execution_count": 53,
     "metadata": {},
     "output_type": "execute_result"
    }
   ],
   "source": [
    "URM_dataframe[\"UserID\"] = URM_dataframe[\"UserID\"].map(user_original_ID_to_index)\n",
    "URM_dataframe[\"ItemID\"] = URM_dataframe[\"ItemID\"].map(item_original_ID_to_index)\n",
    "URM_dataframe.dtypes"
   ]
  },
  {
   "cell_type": "code",
   "execution_count": 54,
   "id": "4e3130ac",
   "metadata": {
    "execution": {
     "iopub.execute_input": "2022-11-05T16:03:53.391208Z",
     "iopub.status.busy": "2022-11-05T16:03:53.390800Z",
     "iopub.status.idle": "2022-11-05T16:03:53.455687Z",
     "shell.execute_reply": "2022-11-05T16:03:53.454566Z"
    },
    "papermill": {
     "duration": 0.077058,
     "end_time": "2022-11-05T16:03:53.458220",
     "exception": false,
     "start_time": "2022-11-05T16:03:53.381162",
     "status": "completed"
    },
    "tags": []
   },
   "outputs": [
    {
     "data": {
      "text/plain": [
       "<41629x24507 sparse matrix of type '<class 'numpy.int64'>'\n",
       "\twith 5826506 stored elements in COOrdinate format>"
      ]
     },
     "execution_count": 54,
     "metadata": {},
     "output_type": "execute_result"
    }
   ],
   "source": [
    "URM = sps.coo_matrix((URM_dataframe[\"Data\"].values, \n",
    "                          (URM_dataframe[\"UserID\"].values, URM_dataframe[\"ItemID\"].values)))\n",
    "URM"
   ]
  },
  {
   "cell_type": "code",
   "execution_count": 55,
   "id": "6fcced31",
   "metadata": {
    "execution": {
     "iopub.execute_input": "2022-11-05T16:03:53.477442Z",
     "iopub.status.busy": "2022-11-05T16:03:53.476299Z",
     "iopub.status.idle": "2022-11-05T16:03:53.790542Z",
     "shell.execute_reply": "2022-11-05T16:03:53.789393Z"
    },
    "papermill": {
     "duration": 0.326515,
     "end_time": "2022-11-05T16:03:53.793213",
     "exception": false,
     "start_time": "2022-11-05T16:03:53.466698",
     "status": "completed"
    },
    "tags": []
   },
   "outputs": [
    {
     "data": {
      "text/plain": [
       "<41629x24507 sparse matrix of type '<class 'numpy.int64'>'\n",
       "\twith 1554640 stored elements in Compressed Sparse Row format>"
      ]
     },
     "execution_count": 55,
     "metadata": {},
     "output_type": "execute_result"
    }
   ],
   "source": [
    "URM.tocsr()"
   ]
  },
  {
   "cell_type": "markdown",
   "id": "e6537f1d",
   "metadata": {
    "papermill": {
     "duration": 0.008193,
     "end_time": "2022-11-05T16:03:53.809902",
     "exception": false,
     "start_time": "2022-11-05T16:03:53.801709",
     "status": "completed"
    },
    "tags": []
   },
   "source": [
    "## As a reminder :\n",
    "*np.ediff1d()* The differences between consecutive elements of an array.\n",
    "\n",
    "**Compressed Row Matrix :**\n",
    "\n",
    "<img src=\"https://i.stack.imgur.com/12bPL.png\" style=\"width:500px;\">"
   ]
  },
  {
   "cell_type": "code",
   "execution_count": 56,
   "id": "bc86680e",
   "metadata": {
    "execution": {
     "iopub.execute_input": "2022-11-05T16:03:53.828914Z",
     "iopub.status.busy": "2022-11-05T16:03:53.827780Z",
     "iopub.status.idle": "2022-11-05T16:03:53.956343Z",
     "shell.execute_reply": "2022-11-05T16:03:53.955237Z"
    },
    "papermill": {
     "duration": 0.140436,
     "end_time": "2022-11-05T16:03:53.958616",
     "exception": false,
     "start_time": "2022-11-05T16:03:53.818180",
     "status": "completed"
    },
    "tags": []
   },
   "outputs": [
    {
     "data": {
      "text/plain": [
       "array([      0,      65,    9546, ..., 1554601, 1554623, 1554640],\n",
       "      dtype=int32)"
      ]
     },
     "execution_count": 56,
     "metadata": {},
     "output_type": "execute_result"
    }
   ],
   "source": [
    "URM.tocsc().indptr"
   ]
  },
  {
   "cell_type": "markdown",
   "id": "403cfa21",
   "metadata": {
    "papermill": {
     "duration": 0.008168,
     "end_time": "2022-11-05T16:03:53.975698",
     "exception": false,
     "start_time": "2022-11-05T16:03:53.967530",
     "status": "completed"
    },
    "tags": []
   },
   "source": [
    "We can compute the number of interactions for each items by compute the difference in the index pointer of the CSC ( => number of NNZ)"
   ]
  },
  {
   "cell_type": "code",
   "execution_count": 57,
   "id": "74e14bf5",
   "metadata": {
    "execution": {
     "iopub.execute_input": "2022-11-05T16:03:53.994485Z",
     "iopub.status.busy": "2022-11-05T16:03:53.994052Z",
     "iopub.status.idle": "2022-11-05T16:03:54.117503Z",
     "shell.execute_reply": "2022-11-05T16:03:54.116272Z"
    },
    "papermill": {
     "duration": 0.135828,
     "end_time": "2022-11-05T16:03:54.119912",
     "exception": false,
     "start_time": "2022-11-05T16:03:53.984084",
     "status": "completed"
    },
    "tags": []
   },
   "outputs": [
    {
     "data": {
      "text/plain": [
       "array([  65, 9481, 6021, ...,   24,   22,   17], dtype=int32)"
      ]
     },
     "execution_count": 57,
     "metadata": {},
     "output_type": "execute_result"
    }
   ],
   "source": [
    "item_popularity = np.ediff1d(URM.tocsc().indptr)\n",
    "item_popularity"
   ]
  },
  {
   "cell_type": "code",
   "execution_count": 58,
   "id": "aa73a254",
   "metadata": {
    "execution": {
     "iopub.execute_input": "2022-11-05T16:03:54.139034Z",
     "iopub.status.busy": "2022-11-05T16:03:54.138596Z",
     "iopub.status.idle": "2022-11-05T16:03:54.146436Z",
     "shell.execute_reply": "2022-11-05T16:03:54.145257Z"
    },
    "papermill": {
     "duration": 0.020001,
     "end_time": "2022-11-05T16:03:54.148797",
     "exception": false,
     "start_time": "2022-11-05T16:03:54.128796",
     "status": "completed"
    },
    "tags": []
   },
   "outputs": [
    {
     "data": {
      "text/plain": [
       "array([  12,   13,   13, ..., 5481, 6021, 9481], dtype=int32)"
      ]
     },
     "execution_count": 58,
     "metadata": {},
     "output_type": "execute_result"
    }
   ],
   "source": [
    "item_popularity = np.sort(item_popularity)\n",
    "item_popularity"
   ]
  },
  {
   "cell_type": "code",
   "execution_count": 59,
   "id": "04d6beb4",
   "metadata": {
    "execution": {
     "iopub.execute_input": "2022-11-05T16:03:54.168237Z",
     "iopub.status.busy": "2022-11-05T16:03:54.167788Z",
     "iopub.status.idle": "2022-11-05T16:03:54.408374Z",
     "shell.execute_reply": "2022-11-05T16:03:54.407163Z"
    },
    "papermill": {
     "duration": 0.253128,
     "end_time": "2022-11-05T16:03:54.410866",
     "exception": false,
     "start_time": "2022-11-05T16:03:54.157738",
     "status": "completed"
    },
    "tags": []
   },
   "outputs": [
    {
     "data": {
      "image/png": "[encoded data removed]",
      "text/plain": [
       "<Figure size 432x288 with 1 Axes>"
      ]
     },
     "metadata": {
      "needs_background": "light"
     },
     "output_type": "display_data"
    }
   ],
   "source": [
    "pyplot.plot(item_popularity, 'ro')\n",
    "pyplot.ylabel('Num Interactions ')\n",
    "pyplot.xlabel('Sorted Item')\n",
    "pyplot.show()"
   ]
  },
  {
   "cell_type": "code",
   "execution_count": 61,
   "id": "4ebd1d98",
   "metadata": {
    "execution": {
     "iopub.execute_input": "2022-11-05T16:03:54.484413Z",
     "iopub.status.busy": "2022-11-05T16:03:54.483344Z",
     "iopub.status.idle": "2022-11-05T16:03:54.529886Z",
     "shell.execute_reply": "2022-11-05T16:03:54.528432Z"
    },
    "papermill": {
     "duration": 0.060377,
     "end_time": "2022-11-05T16:03:54.533081",
     "exception": false,
     "start_time": "2022-11-05T16:03:54.472704",
     "status": "completed"
    },
    "tags": []
   },
   "outputs": [
    {
     "name": "stdout",
     "output_type": "stream",
     "text": [
      "Average per-item interactions over the whole dataset 63.44\n",
      "Average per-item interactions for the top 10% popular items 305.72\n",
      "Average per-item interactions for the least 10% popular items 22.21\n",
      "Average per-item interactions for the median 10% popular items 34.46\n"
     ]
    }
   ],
   "source": [
    "n_items = len(URM_dataframe[\"ItemID\"].unique())\n",
    "ten_percent = int(n_items/10)\n",
    "\n",
    "print(\"Average per-item interactions over the whole dataset {:.2f}\".\n",
    "      format(item_popularity.mean()))\n",
    "\n",
    "print(\"Average per-item interactions for the top 10% popular items {:.2f}\".\n",
    "      format(item_popularity[-ten_percent:].mean()))\n",
    "\n",
    "print(\"Average per-item interactions for the least 10% popular items {:.2f}\".\n",
    "      format(item_popularity[:ten_percent].mean()))\n",
    "\n",
    "print(\"Average per-item interactions for the median 10% popular items {:.2f}\".\n",
    "      format(item_popularity[int(n_items*0.45):int(n_items*0.55)].mean()))"
   ]
  },
  {
   "cell_type": "code",
   "execution_count": 62,
   "id": "3cd52911",
   "metadata": {
    "execution": {
     "iopub.execute_input": "2022-11-05T16:03:54.553412Z",
     "iopub.status.busy": "2022-11-05T16:03:54.553008Z",
     "iopub.status.idle": "2022-11-05T16:03:55.085069Z",
     "shell.execute_reply": "2022-11-05T16:03:55.083870Z"
    },
    "papermill": {
     "duration": 0.545143,
     "end_time": "2022-11-05T16:03:55.087677",
     "exception": false,
     "start_time": "2022-11-05T16:03:54.542534",
     "status": "completed"
    },
    "tags": []
   },
   "outputs": [
    {
     "data": {
      "image/png": "[encoded data removed]",
      "text/plain": [
       "<Figure size 432x288 with 1 Axes>"
      ]
     },
     "metadata": {
      "needs_background": "light"
     },
     "output_type": "display_data"
    }
   ],
   "source": [
    "user_activity = np.ediff1d(URM.tocsr().indptr)\n",
    "user_activity = np.sort(user_activity)\n",
    "\n",
    "\n",
    "pyplot.plot(user_activity, 'ro')\n",
    "pyplot.ylabel('Num Interactions ')\n",
    "pyplot.xlabel('Sorted User')\n",
    "pyplot.show()"
   ]
  },
  {
   "cell_type": "markdown",
   "id": "b833196c",
   "metadata": {
    "papermill": {
     "duration": 0.009625,
     "end_time": "2022-11-05T16:03:55.107306",
     "exception": false,
     "start_time": "2022-11-05T16:03:55.097681",
     "status": "completed"
    },
    "tags": []
   },
   "source": [
    "### In order to evaluate our recommender we have to define:\n",
    "* A splitting of the data in URM_train and URM_test\n",
    "* An evaluation metric\n",
    "* A function computing the evaluation for each user\n",
    "\n",
    "### The splitting of the data is very important to ensure your algorithm is evaluated in a realistic scenario by using test it has never seen. We create two splits:\n",
    "#### - Train data: we will use this to train our model\n",
    "#### - Test data: we will use this to evaluate our model"
   ]
  },
  {
   "cell_type": "code",
   "execution_count": 63,
   "id": "5648819c",
   "metadata": {
    "execution": {
     "iopub.execute_input": "2022-11-05T16:03:55.127639Z",
     "iopub.status.busy": "2022-11-05T16:03:55.127208Z",
     "iopub.status.idle": "2022-11-05T16:03:55.316171Z",
     "shell.execute_reply": "2022-11-05T16:03:55.315055Z"
    },
    "papermill": {
     "duration": 0.202011,
     "end_time": "2022-11-05T16:03:55.318690",
     "exception": false,
     "start_time": "2022-11-05T16:03:55.116679",
     "status": "completed"
    },
    "tags": []
   },
   "outputs": [
    {
     "data": {
      "text/plain": [
       "array([ True,  True,  True, ...,  True,  True, False])"
      ]
     },
     "execution_count": 63,
     "metadata": {},
     "output_type": "execute_result"
    }
   ],
   "source": [
    "train_test_split = 0.80\n",
    "\n",
    "n_interactions = URM.nnz\n",
    "\n",
    "\n",
    "train_mask = np.random.choice([True,False], n_interactions, p=[train_test_split, 1-train_test_split])\n",
    "train_mask"
   ]
  },
  {
   "cell_type": "code",
   "execution_count": 64,
   "id": "3cf74131",
   "metadata": {
    "execution": {
     "iopub.execute_input": "2022-11-05T16:03:55.339452Z",
     "iopub.status.busy": "2022-11-05T16:03:55.339030Z",
     "iopub.status.idle": "2022-11-05T16:03:55.723981Z",
     "shell.execute_reply": "2022-11-05T16:03:55.722853Z"
    },
    "papermill": {
     "duration": 0.398683,
     "end_time": "2022-11-05T16:03:55.726998",
     "exception": false,
     "start_time": "2022-11-05T16:03:55.328315",
     "status": "completed"
    },
    "tags": []
   },
   "outputs": [
    {
     "data": {
      "text/plain": [
       "<41629x24507 sparse matrix of type '<class 'numpy.int64'>'\n",
       "\twith 1312033 stored elements in Compressed Sparse Row format>"
      ]
     },
     "execution_count": 64,
     "metadata": {},
     "output_type": "execute_result"
    }
   ],
   "source": [
    "URM_train = sps.csr_matrix((URM.data[train_mask],\n",
    "                            (URM.row[train_mask], URM.col[train_mask])))\n",
    "\n",
    "URM_train"
   ]
  },
  {
   "cell_type": "code",
   "execution_count": 65,
   "id": "ae7e9dee",
   "metadata": {
    "execution": {
     "iopub.execute_input": "2022-11-05T16:03:55.753511Z",
     "iopub.status.busy": "2022-11-05T16:03:55.753007Z",
     "iopub.status.idle": "2022-11-05T16:03:55.940565Z",
     "shell.execute_reply": "2022-11-05T16:03:55.939601Z"
    },
    "papermill": {
     "duration": 0.202443,
     "end_time": "2022-11-05T16:03:55.943504",
     "exception": false,
     "start_time": "2022-11-05T16:03:55.741061",
     "status": "completed"
    },
    "tags": []
   },
   "outputs": [
    {
     "data": {
      "text/plain": [
       "<41629x24507 sparse matrix of type '<class 'numpy.int64'>'\n",
       "\twith 469420 stored elements in Compressed Sparse Row format>"
      ]
     },
     "execution_count": 65,
     "metadata": {},
     "output_type": "execute_result"
    }
   ],
   "source": [
    "test_mask = np.logical_not(train_mask)\n",
    "\n",
    "URM_test = sps.csr_matrix((URM.data[test_mask],\n",
    "                            (URM.row[test_mask], URM.col[test_mask])))\n",
    "\n",
    "URM_test"
   ]
  },
  {
   "cell_type": "markdown",
   "id": "57bc964e",
   "metadata": {
    "papermill": {
     "duration": 0.011996,
     "end_time": "2022-11-05T16:03:55.969869",
     "exception": false,
     "start_time": "2022-11-05T16:03:55.957873",
     "status": "completed"
    },
    "tags": []
   },
   "source": [
    "### Evaluation metric\n",
    "#### We call items in the test set 'relevant"
   ]
  },
  {
   "cell_type": "code",
   "execution_count": 66,
   "id": "b861d2e2",
   "metadata": {
    "execution": {
     "iopub.execute_input": "2022-11-05T16:03:55.990614Z",
     "iopub.status.busy": "2022-11-05T16:03:55.990216Z",
     "iopub.status.idle": "2022-11-05T16:03:55.997953Z",
     "shell.execute_reply": "2022-11-05T16:03:55.996852Z"
    },
    "papermill": {
     "duration": 0.02133,
     "end_time": "2022-11-05T16:03:56.000807",
     "exception": false,
     "start_time": "2022-11-05T16:03:55.979477",
     "status": "completed"
    },
    "tags": []
   },
   "outputs": [
    {
     "data": {
      "text/plain": [
       "array([ 168,  550,  889, 1062, 1496, 3746, 3751, 3752])"
      ]
     },
     "execution_count": 66,
     "metadata": {},
     "output_type": "execute_result"
    }
   ],
   "source": [
    "user_id = 124\n",
    "relevant_items = URM_test[user_id].indices\n",
    "relevant_items"
   ]
  },
  {
   "cell_type": "markdown",
   "id": "b75f0d3d",
   "metadata": {
    "papermill": {
     "duration": 0.009816,
     "end_time": "2022-11-05T16:03:56.024525",
     "exception": false,
     "start_time": "2022-11-05T16:03:56.014709",
     "status": "completed"
    },
    "tags": []
   },
   "source": [
    "#### Say that we have a recommendation list such as this"
   ]
  },
  {
   "cell_type": "code",
   "execution_count": 67,
   "id": "47d025bd",
   "metadata": {
    "execution": {
     "iopub.execute_input": "2022-11-05T16:03:56.045900Z",
     "iopub.status.busy": "2022-11-05T16:03:56.045466Z",
     "iopub.status.idle": "2022-11-05T16:03:56.052836Z",
     "shell.execute_reply": "2022-11-05T16:03:56.051696Z"
    },
    "papermill": {
     "duration": 0.020705,
     "end_time": "2022-11-05T16:03:56.055128",
     "exception": false,
     "start_time": "2022-11-05T16:03:56.034423",
     "status": "completed"
    },
    "tags": []
   },
   "outputs": [
    {
     "data": {
      "text/plain": [
       "array([6060, 1622,   15,  857, 5823])"
      ]
     },
     "execution_count": 67,
     "metadata": {},
     "output_type": "execute_result"
    }
   ],
   "source": [
    "recommended_items = np.array([6060, 1622, 15, 857, 5823])\n",
    "recommended_items"
   ]
  },
  {
   "cell_type": "code",
   "execution_count": 68,
   "id": "bff1ab19",
   "metadata": {
    "execution": {
     "iopub.execute_input": "2022-11-05T16:03:56.076527Z",
     "iopub.status.busy": "2022-11-05T16:03:56.076088Z",
     "iopub.status.idle": "2022-11-05T16:03:56.083516Z",
     "shell.execute_reply": "2022-11-05T16:03:56.082362Z"
    },
    "papermill": {
     "duration": 0.020912,
     "end_time": "2022-11-05T16:03:56.085770",
     "exception": false,
     "start_time": "2022-11-05T16:03:56.064858",
     "status": "completed"
    },
    "tags": []
   },
   "outputs": [
    {
     "data": {
      "text/plain": [
       "array([False, False, False, False, False])"
      ]
     },
     "execution_count": 68,
     "metadata": {},
     "output_type": "execute_result"
    }
   ],
   "source": [
    "is_relevant = np.in1d(recommended_items, relevant_items, assume_unique=True)\n",
    "is_relevant"
   ]
  },
  {
   "cell_type": "markdown",
   "id": "a678062c",
   "metadata": {
    "papermill": {
     "duration": 0.00995,
     "end_time": "2022-11-05T16:03:56.105583",
     "exception": false,
     "start_time": "2022-11-05T16:03:56.095633",
     "status": "completed"
    },
    "tags": []
   },
   "source": [
    "### Precision: how many of the recommended items are relevant"
   ]
  },
  {
   "cell_type": "code",
   "execution_count": 69,
   "id": "cc96c8fd",
   "metadata": {
    "execution": {
     "iopub.execute_input": "2022-11-05T16:03:56.126947Z",
     "iopub.status.busy": "2022-11-05T16:03:56.126483Z",
     "iopub.status.idle": "2022-11-05T16:03:56.133643Z",
     "shell.execute_reply": "2022-11-05T16:03:56.132430Z"
    },
    "papermill": {
     "duration": 0.020686,
     "end_time": "2022-11-05T16:03:56.136211",
     "exception": false,
     "start_time": "2022-11-05T16:03:56.115525",
     "status": "completed"
    },
    "tags": []
   },
   "outputs": [],
   "source": [
    "def precision(recommended_items, relevant_items):\n",
    "    \n",
    "    is_relevant = np.in1d(recommended_items, relevant_items, assume_unique=True)\n",
    "    \n",
    "    precision_score = np.sum(is_relevant, dtype=np.float32) / len(is_relevant)\n",
    "    \n",
    "    return precision_score"
   ]
  },
  {
   "cell_type": "code",
   "execution_count": 70,
   "id": "cfac6bfa",
   "metadata": {
    "execution": {
     "iopub.execute_input": "2022-11-05T16:03:56.158288Z",
     "iopub.status.busy": "2022-11-05T16:03:56.157555Z",
     "iopub.status.idle": "2022-11-05T16:03:56.163836Z",
     "shell.execute_reply": "2022-11-05T16:03:56.162685Z"
    },
    "papermill": {
     "duration": 0.020329,
     "end_time": "2022-11-05T16:03:56.166546",
     "exception": false,
     "start_time": "2022-11-05T16:03:56.146217",
     "status": "completed"
    },
    "tags": []
   },
   "outputs": [],
   "source": [
    "def recall(recommended_items, relevant_items):\n",
    "    \n",
    "    is_relevant = np.in1d(recommended_items, relevant_items, assume_unique=True)\n",
    "    \n",
    "    recall_score = np.sum(is_relevant, dtype=np.float32) / relevant_items.shape[0]\n",
    "    \n",
    "    return recall_score"
   ]
  },
  {
   "cell_type": "code",
   "execution_count": 71,
   "id": "8a5600dd",
   "metadata": {
    "execution": {
     "iopub.execute_input": "2022-11-05T16:03:56.195056Z",
     "iopub.status.busy": "2022-11-05T16:03:56.194276Z",
     "iopub.status.idle": "2022-11-05T16:03:56.201975Z",
     "shell.execute_reply": "2022-11-05T16:03:56.200859Z"
    },
    "papermill": {
     "duration": 0.022739,
     "end_time": "2022-11-05T16:03:56.204343",
     "exception": false,
     "start_time": "2022-11-05T16:03:56.181604",
     "status": "completed"
    },
    "tags": []
   },
   "outputs": [],
   "source": [
    "def AP(recommended_items, relevant_items):\n",
    "   \n",
    "    is_relevant = np.in1d(recommended_items, relevant_items, assume_unique=True)\n",
    "    \n",
    "    # Cumulative sum: precision at 1, at 2, at 3 ...\n",
    "    p_at_k = is_relevant * np.cumsum(is_relevant, dtype=np.float32) / (1 + np.arange(is_relevant.shape[0]))\n",
    "    \n",
    "    ap_score = np.sum(p_at_k) / np.min([relevant_items.shape[0], is_relevant.shape[0]])\n",
    "\n",
    "    return ap_score"
   ]
  },
  {
   "cell_type": "code",
   "execution_count": null,
   "id": "ea633011",
   "metadata": {
    "execution": {
     "iopub.execute_input": "2022-11-05T15:46:21.069393Z",
     "iopub.status.busy": "2022-11-05T15:46:21.068870Z",
     "iopub.status.idle": "2022-11-05T15:46:21.077793Z",
     "shell.execute_reply": "2022-11-05T15:46:21.076637Z",
     "shell.execute_reply.started": "2022-11-05T15:46:21.069351Z"
    },
    "papermill": {
     "duration": 0.009753,
     "end_time": "2022-11-05T16:03:56.224168",
     "exception": false,
     "start_time": "2022-11-05T16:03:56.214415",
     "status": "completed"
    },
    "tags": []
   },
   "outputs": [],
   "source": []
  }
 ],
 "metadata": {
  "kernelspec": {
   "display_name": "Python 3.9.13 64-bit (microsoft store)",
   "language": "python",
   "name": "python3"
  },
  "language_info": {
   "codemirror_mode": {
    "name": "ipython",
    "version": 3
   },
   "file_extension": ".py",
   "mimetype": "text/x-python",
   "name": "python",
   "nbconvert_exporter": "python",
   "pygments_lexer": "ipython3",
   "version": "3.9.13"
  },
  "papermill": {
   "default_parameters": {},
   "duration": 15.785358,
   "end_time": "2022-11-05T16:03:56.855943",
   "environment_variables": {},
   "exception": null,
   "input_path": "__notebook__.ipynb",
   "output_path": "__notebook__.ipynb",
   "parameters": {},
   "start_time": "2022-11-05T16:03:41.070585",
   "version": "2.3.4"
  },
  "vscode": {
   "interpreter": {
    "hash": "8b24c27da1e111ff50c29a573bc55d4c53ca444ebd5b50f2f026728ea3d15de1"
   }
  }
 },
 "nbformat": 4,
 "nbformat_minor": 5
}
